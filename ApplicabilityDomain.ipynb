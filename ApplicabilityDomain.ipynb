{
 "cells": [
  {
   "cell_type": "code",
   "execution_count": null,
   "id": "fc371a6b-afb2-42f8-802c-bcb5c38e91df",
   "metadata": {},
   "outputs": [],
   "source": [
    "from sklearn.pipeline import Pipeline\n",
    "from sklearn.decomposition import PCA\n",
    "from sklearn.preprocessing import FunctionTransformer, MinMaxScaler\n",
    "from sklearn.neighbors import LocalOutlierFactor\n",
    "from molvs import Standardizer\n",
    "from lib.descriptors.cdk import ECFPTransformer, ECFPID\n",
    "from rdkit.Chem.PandasTools import LoadSDF\n",
    "import numpy as np\n",
    "import pandas as pd"
   ]
  },
  {
   "cell_type": "markdown",
   "id": "a8b57dd8-2dbd-4b30-8e58-35f0291074ce",
   "metadata": {},
   "source": [
    "### Load data"
   ]
  },
  {
   "cell_type": "code",
   "execution_count": null,
   "id": "a86d5b3b-0048-4e21-a5e7-760bd42e4c8e",
   "metadata": {},
   "outputs": [],
   "source": [
    "data_path = \"ba_assets/data_for_models/data_threshold_all_filled_0.5_all_masters/training_chembl+manual/%s.sdf\"\n",
    "targets = [\n",
    "    \"BCRP\",\n",
    "    \"BCRP-S\",\n",
    "    \"BSEP\",\n",
    "    \"MATE1\",\n",
    "    \"MDR1\",\n",
    "    \"MDR1-S\",\n",
    "    \"MRP2-S\",\n",
    "    \"MRP3\",\n",
    "    \"MRP3-S\",\n",
    "    \"OATP1B1\",\n",
    "    \"OATP1B3\",\n",
    "    \"OCT1\",\n",
    "    \"OCT2\",\n",
    "]"
   ]
  },
  {
   "cell_type": "code",
   "execution_count": null,
   "id": "db2e0f67-c22d-4c69-8489-9477704614ac",
   "metadata": {},
   "outputs": [],
   "source": [
    "grouped_mols = {target: LoadSDF(data_path % target).ROMol for target in targets}"
   ]
  },
  {
   "cell_type": "code",
   "execution_count": null,
   "id": "bf07db2c-1406-4b8c-a51f-de72ee582e5e",
   "metadata": {},
   "outputs": [],
   "source": [
    "all_mols = pd.concat(grouped_mols.values())"
   ]
  },
  {
   "cell_type": "markdown",
   "id": "26907274-886c-48cf-9adb-8206e79cd216",
   "metadata": {},
   "source": [
    "### Train"
   ]
  },
  {
   "cell_type": "code",
   "execution_count": null,
   "id": "0d7c9daa-de92-457d-bdfc-ce641a4e43f4",
   "metadata": {},
   "outputs": [],
   "source": [
    "pipeline = Pipeline(\n",
    "    steps=[\n",
    "        (\"standardizer\", FunctionTransformer(np.vectorize(Standardizer().standardize))),\n",
    "        (\"descriptors\", ECFPTransformer(ECFPID.ECFP4)),\n",
    "        (\"scaler\", MinMaxScaler()),\n",
    "        (\"pca\", PCA(n_components=2)),\n",
    "        (\"pca_scaler\", MinMaxScaler()),\n",
    "        (\n",
    "            \"lof\",\n",
    "            LocalOutlierFactor(\n",
    "                n_neighbors=5, novelty=True, contamination=0.1, metric=\"euclidean\"\n",
    "            ),\n",
    "        ),\n",
    "    ]\n",
    ")"
   ]
  },
  {
   "cell_type": "code",
   "execution_count": null,
   "id": "0b2f3dc5-14ff-4afe-8267-ffc61d40076f",
   "metadata": {},
   "outputs": [],
   "source": [
    "pipeline.fit(all_mols)"
   ]
  },
  {
   "cell_type": "code",
   "execution_count": null,
   "id": "8f64f242-49a2-4332-aeae-a836ee9be3c5",
   "metadata": {},
   "outputs": [],
   "source": [
    "xx, yy = np.meshgrid(np.linspace(-0.2, 1.2, 100), np.linspace(-0.2, 1.2, 100))"
   ]
  },
  {
   "cell_type": "code",
   "execution_count": null,
   "id": "f4ae34a8-a303-452f-9e36-5d224e839f16",
   "metadata": {},
   "outputs": [],
   "source": [
    "def make_grid(mols):\n",
    "    pipeline[-1].fit(pipeline[:-1].transform(mols))\n",
    "    ZZ = pipeline[-1].decision_function(np.c_[xx.ravel(), yy.ravel()])\n",
    "    ZZ = ZZ.reshape(xx.shape)\n",
    "\n",
    "    return ZZ"
   ]
  },
  {
   "cell_type": "markdown",
   "id": "82adae2d-43ba-49d2-8a8c-7df3d3cd7aff",
   "metadata": {},
   "source": [
    "## Export"
   ]
  },
  {
   "cell_type": "code",
   "execution_count": null,
   "id": "464226b7-0d3e-4433-9616-a5cafe6fe778",
   "metadata": {},
   "outputs": [],
   "source": [
    "import joblib\n",
    "import json\n",
    "from pathlib import Path"
   ]
  },
  {
   "cell_type": "code",
   "execution_count": null,
   "id": "7425d2bb-2c5c-4580-a9c8-922d4f105d72",
   "metadata": {},
   "outputs": [],
   "source": [
    "def name_to_path(name):\n",
    "    target, *maybe_substrate = name.split(\"-\")\n",
    "\n",
    "    if maybe_substrate == [\"S\"]:\n",
    "        return Path(f\"Substrate/{target}/ad.pkl\")\n",
    "    else:\n",
    "        return Path(f\"Inhibition/{target}/ad.pkl\")"
   ]
  },
  {
   "cell_type": "code",
   "execution_count": null,
   "id": "bc8118b2-7f03-4da9-b291-fbaf43d1712a",
   "metadata": {},
   "outputs": [],
   "source": [
    "def name_to_canonical(name):\n",
    "    target, *maybe_substrate = name.split(\"-\")\n",
    "\n",
    "    if maybe_substrate == [\"S\"]:\n",
    "        return f\"S-{target}\"\n",
    "    else:\n",
    "        return f\"I-{target}\""
   ]
  },
  {
   "cell_type": "code",
   "execution_count": null,
   "id": "fa404942-aa37-4131-95ab-fbee69c7f1f8",
   "metadata": {},
   "outputs": [],
   "source": [
    "model_dir = Path(\"models\")"
   ]
  },
  {
   "cell_type": "markdown",
   "id": "a2ae64c1-f2ba-46da-996a-74b7efc7a01c",
   "metadata": {},
   "source": [
    "### Embedder"
   ]
  },
  {
   "cell_type": "code",
   "execution_count": null,
   "id": "f388d039-5655-4f83-8188-0d2b31a9dd01",
   "metadata": {},
   "outputs": [],
   "source": [
    "joblib.dump(pipeline[1:-1], \"models/embedder.pkl\")"
   ]
  },
  {
   "cell_type": "markdown",
   "id": "ad95dce9-e0ac-493d-9026-7dab1c1f5fee",
   "metadata": {},
   "source": [
    "### Density map data"
   ]
  },
  {
   "cell_type": "code",
   "execution_count": null,
   "id": "e53bc5c1-bd95-42e5-b9e4-e7b7ed440f44",
   "metadata": {},
   "outputs": [],
   "source": [
    "Path(\"ad-grids.json\").write_text(\n",
    "    json.dumps(\n",
    "        [\n",
    "            {\n",
    "                \"grid\": np.flip(make_grid(mols), axis=0).flatten().tolist(),\n",
    "                \"name\": name_to_canonical(name),\n",
    "            }\n",
    "            for name, mols in grouped_mols.items()\n",
    "        ]\n",
    "    )\n",
    ")"
   ]
  },
  {
   "cell_type": "markdown",
   "id": "40a86451-fa85-42a7-bf47-1aaf5c82b2e5",
   "metadata": {},
   "source": [
    "### LOF checkers"
   ]
  },
  {
   "cell_type": "code",
   "execution_count": null,
   "id": "1b74ce6c-175b-4325-baa7-c696a709953e",
   "metadata": {},
   "outputs": [],
   "source": [
    "for target, mols in grouped_mols.items():\n",
    "    pipeline[-1].fit(pipeline[:-1].transform(mols))\n",
    "    path = name_to_path(target)\n",
    "    \n",
    "    joblib.dump(pipeline[2:], model_dir.joinpath(path))"
   ]
  }
 ],
 "metadata": {
  "kernelspec": {
   "display_name": "Python 3 (ipykernel)",
   "language": "python",
   "name": "python3"
  },
  "language_info": {
   "codemirror_mode": {
    "name": "ipython",
    "version": 3
   },
   "file_extension": ".py",
   "mimetype": "text/x-python",
   "name": "python",
   "nbconvert_exporter": "python",
   "pygments_lexer": "ipython3",
   "version": "3.12.4"
  }
 },
 "nbformat": 4,
 "nbformat_minor": 5
}
