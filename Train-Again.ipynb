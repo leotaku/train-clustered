{
 "cells": [
  {
   "cell_type": "code",
   "execution_count": null,
   "id": "e6e7c9a1-4e42-45ea-8f7d-b97129b646f8",
   "metadata": {},
   "outputs": [],
   "source": [
    "%load_ext lab_black"
   ]
  },
  {
   "cell_type": "markdown",
   "id": "cdd2d221-6cd8-4d1e-b85c-915bbdbcbea3",
   "metadata": {},
   "source": [
    "## Setup"
   ]
  },
  {
   "cell_type": "markdown",
   "id": "1e568be2-e0dc-4f21-844a-90562ee55c07",
   "metadata": {},
   "source": [
    "### Setup Intel Extensions"
   ]
  },
  {
   "cell_type": "code",
   "execution_count": null,
   "id": "eefe4769-3c81-400e-953d-38f2bbec243a",
   "metadata": {},
   "outputs": [],
   "source": [
    "from sklearnex import patch_sklearn"
   ]
  },
  {
   "cell_type": "code",
   "execution_count": null,
   "id": "bd44d063-ba5f-4e18-adc4-91ddaceb357b",
   "metadata": {},
   "outputs": [],
   "source": [
    "patch_sklearn()"
   ]
  },
  {
   "cell_type": "markdown",
   "id": "fc115aaa-ef12-4a54-aa16-ceae88c0d72b",
   "metadata": {},
   "source": [
    "### Predictable randomness"
   ]
  },
  {
   "cell_type": "code",
   "execution_count": null,
   "id": "bb0b2a38-665f-4654-b511-447b2e2c91b1",
   "metadata": {},
   "outputs": [],
   "source": [
    "import numpy as np\n",
    "\n",
    "seed = 0\n",
    "\n",
    "\n",
    "def rng():\n",
    "    return np.random.RandomState(seed)"
   ]
  },
  {
   "cell_type": "markdown",
   "id": "0cdd8365-8970-4c94-8e48-974ad8a993e3",
   "metadata": {},
   "source": [
    "### Shared parameters"
   ]
  },
  {
   "cell_type": "code",
   "execution_count": null,
   "id": "69eebbe4-a45b-44f1-9464-f8aa95bfabaf",
   "metadata": {},
   "outputs": [],
   "source": [
    "param_scalers = [None]"
   ]
  },
  {
   "cell_type": "markdown",
   "id": "d0b910dd-00dd-48cf-bc7e-0799fe9a002e",
   "metadata": {},
   "source": [
    "### Preprocessing and parameter search"
   ]
  },
  {
   "cell_type": "code",
   "execution_count": null,
   "id": "48d0b9ef-8bd8-419a-b07c-a9de9f934d54",
   "metadata": {},
   "outputs": [],
   "source": [
    "from sklearn.model_selection import KFold, RandomizedSearchCV\n",
    "\n",
    "\n",
    "def make_parameter_search(model, cv_params):\n",
    "    return RandomizedSearchCV(\n",
    "        model,\n",
    "        cv_params,\n",
    "        scoring=\"balanced_accuracy\",\n",
    "        refit=True,\n",
    "        cv=KFold(n_splits=10, shuffle=True, random_state=seed),\n",
    "        verbose=3,\n",
    "        error_score=\"raise\",\n",
    "        n_jobs=-1,\n",
    "    )\n",
    "\n",
    "\n",
    "def parameter_search_name(ps):\n",
    "    return ps.estimator.steps[-1][0]"
   ]
  },
  {
   "cell_type": "markdown",
   "id": "b86ccaef-1633-4630-94de-619cc83e99f1",
   "metadata": {},
   "source": [
    "### Cross validation"
   ]
  },
  {
   "cell_type": "code",
   "execution_count": null,
   "id": "bcf39c3d-3887-41e1-b85f-0a245d0a54e8",
   "metadata": {},
   "outputs": [],
   "source": [
    "from sklearn.model_selection import cross_validate\n",
    "from sklearn.metrics import make_scorer, recall_score, precision_score\n",
    "\n",
    "\n",
    "def cross_validation(model, X, y):\n",
    "    return cross_validate(\n",
    "        model,\n",
    "        X,\n",
    "        y,\n",
    "        scoring={\n",
    "            \"accuracy\": \"accuracy\",\n",
    "            \"sensitivity\": \"recall\",\n",
    "            \"specificity\": make_scorer(recall_score, pos_label=0),\n",
    "            \"balanced_accuracy\": \"balanced_accuracy\",\n",
    "            \"f1\": \"f1\",\n",
    "            \"roc_auc\": \"roc_auc\",\n",
    "            \"precision\": make_scorer(precision_score, zero_division=0),\n",
    "            \"matthews_corrcoef\": \"matthews_corrcoef\",\n",
    "        },\n",
    "        cv=KFold(n_splits=10, shuffle=True, random_state=seed),\n",
    "        n_jobs=-1,\n",
    "    )"
   ]
  },
  {
   "cell_type": "markdown",
   "id": "b952b883-4148-4064-a0fb-3d2f3278880c",
   "metadata": {},
   "source": [
    "## Define Models"
   ]
  },
  {
   "cell_type": "code",
   "execution_count": null,
   "id": "0ded6c1e-8f98-43cf-9a8e-2c7704abf17a",
   "metadata": {},
   "outputs": [],
   "source": [
    "from sklearn.pipeline import Pipeline"
   ]
  },
  {
   "cell_type": "code",
   "execution_count": null,
   "id": "94b88e4a-d999-40cf-a222-11c16b4311db",
   "metadata": {},
   "outputs": [],
   "source": [
    "from sklearn.decomposition import PCA\n",
    "from sklearn.linear_model import LogisticRegression\n",
    "from sklearn.preprocessing import FunctionTransformer"
   ]
  },
  {
   "cell_type": "code",
   "execution_count": null,
   "id": "6c331747-9568-438b-aedd-e953ed1e336e",
   "metadata": {},
   "outputs": [],
   "source": [
    "clf_logr = make_parameter_search(\n",
    "    Pipeline(\n",
    "        steps=[\n",
    "            (\"scaler\", None),\n",
    "            (\"pca\", PCA(n_components=8, random_state=rng())),\n",
    "            (\n",
    "                \"logr\",\n",
    "                LogisticRegression(solver=\"saga\", max_iter=10000, random_state=rng()),\n",
    "            ),\n",
    "        ]\n",
    "    ),\n",
    "    {\n",
    "        \"scaler\": param_scalers,\n",
    "        \"logr__penalty\": [\"elasticnet\"],\n",
    "        \"logr__C\": [0.0001, 0.001, 0.01, 0.1, 1, 10, 100, 1000],\n",
    "        \"logr__l1_ratio\": [0, 0.25, 0.5, 0.75, 1],\n",
    "    },\n",
    ")"
   ]
  },
  {
   "cell_type": "code",
   "execution_count": null,
   "id": "f2efe333-6580-4e41-b148-6c9b1ab299ba",
   "metadata": {},
   "outputs": [],
   "source": [
    "from sklearn.ensemble import RandomForestClassifier"
   ]
  },
  {
   "cell_type": "code",
   "execution_count": null,
   "id": "e269d010-0193-4a32-aea9-68ed46cca8fe",
   "metadata": {},
   "outputs": [],
   "source": [
    "clf_rf = make_parameter_search(\n",
    "    Pipeline(\n",
    "        steps=[\n",
    "            (\"scaler\", None),\n",
    "            (\n",
    "                \"rf\",\n",
    "                RandomForestClassifier(max_features=1.0, random_state=rng(), n_jobs=-1),\n",
    "            ),\n",
    "        ]\n",
    "    ),\n",
    "    {\n",
    "        \"scaler\": param_scalers,\n",
    "        \"rf__class_weight\": [\"balanced\"],\n",
    "        \"rf__n_estimators\": [\n",
    "            5,\n",
    "            10,\n",
    "            25,\n",
    "            50,\n",
    "        ],  # , 100, 250\n",
    "        \"rf__max_depth\": [2, 4, 8, 16],  # , 32, 64\n",
    "    },\n",
    ")"
   ]
  },
  {
   "cell_type": "code",
   "execution_count": null,
   "id": "fc227abc-fe42-4f85-886b-1c558aa59a78",
   "metadata": {},
   "outputs": [],
   "source": [
    "from sklearn.neighbors import KNeighborsClassifier"
   ]
  },
  {
   "cell_type": "code",
   "execution_count": null,
   "id": "c5560d6a-b909-404a-b093-22e4f1443fc8",
   "metadata": {},
   "outputs": [],
   "source": [
    "clf_knn = make_parameter_search(\n",
    "    Pipeline(steps=[(\"scaler\", None), (\"knn\", KNeighborsClassifier())]),\n",
    "    {\n",
    "        \"scaler\": param_scalers,\n",
    "        \"knn__n_neighbors\": [3, 5, 9, 11, 13, 17, 19],\n",
    "        \"knn__weights\": [\"uniform\", \"distance\"],\n",
    "        \"knn__metric\": [\"euclidean\", \"manhattan\"],\n",
    "    },\n",
    ")"
   ]
  },
  {
   "cell_type": "code",
   "execution_count": null,
   "id": "e9529172-dabf-45b9-9b23-5f5151e1f8b5",
   "metadata": {},
   "outputs": [],
   "source": [
    "from sklearn.svm import SVC"
   ]
  },
  {
   "cell_type": "code",
   "execution_count": null,
   "id": "94324b6d-83e5-4e8a-a6e7-7c7c0bda28b1",
   "metadata": {},
   "outputs": [],
   "source": [
    "clf_svc = make_parameter_search(\n",
    "    Pipeline(\n",
    "        steps=[\n",
    "            (\"scaler\", None),\n",
    "            (\"svc\", SVC(class_weight=\"balanced\", probability=True, random_state=rng())),\n",
    "        ]\n",
    "    ),\n",
    "    {\n",
    "        \"scaler\": param_scalers,\n",
    "        \"svc__kernel\": [\"rbf\"],\n",
    "        \"svc__C\": [0.1, 1.0, 10.0, 100.0, 1000.0],\n",
    "        \"svc__gamma\": [0.0001, 0.001, 0.01, 0.1, 1.0, 10.0],\n",
    "    },\n",
    ")"
   ]
  },
  {
   "cell_type": "code",
   "execution_count": null,
   "id": "2a15760e-f932-49fb-9080-2ce4e07eaaf3",
   "metadata": {},
   "outputs": [],
   "source": [
    "from xgboost import XGBClassifier"
   ]
  },
  {
   "cell_type": "code",
   "execution_count": null,
   "id": "9f267748-8e57-4a8b-9d60-64f11b9d7409",
   "metadata": {},
   "outputs": [],
   "source": [
    "clf_xgb = make_parameter_search(\n",
    "    Pipeline(\n",
    "        steps=[\n",
    "            (\"scaler\", None),\n",
    "            (\"xgb\", XGBClassifier(random_state=rng(), n_jobs=-1)),\n",
    "        ]\n",
    "    ),\n",
    "    {\n",
    "        \"scaler\": param_scalers,\n",
    "        \"xgb__scale_pos_weight\": [0.1, 0.5, 1, 5, 10],\n",
    "        \"xgb__objective\": [None, \"binary:logistic\"],\n",
    "        \"xgb__n_estimators\": [5, 10, 25, 50, 100, 250],\n",
    "        \"xgb__max_depth\": [2, 4, 8, 16, 32, 64],\n",
    "    },\n",
    ")"
   ]
  },
  {
   "cell_type": "code",
   "execution_count": null,
   "id": "4042778f-0004-422f-803a-025bda05b096",
   "metadata": {},
   "outputs": [],
   "source": [
    "models = [clf_logr, clf_rf, clf_knn, clf_svc, clf_xgb]\n",
    "targets = [\n",
    "    \"BCRP\",\n",
    "    \"BCRP-S\",\n",
    "    \"BSEP\",\n",
    "    \"MATE1\",\n",
    "    \"MDR1\",\n",
    "    \"MDR1-S\",\n",
    "    \"MRP2-S\",\n",
    "    \"MRP3\",\n",
    "    \"MRP3-S\",\n",
    "    \"OATP1B1\",\n",
    "    \"OATP1B3\",\n",
    "    \"OCT1\",\n",
    "    \"OCT2\",\n",
    "]"
   ]
  },
  {
   "cell_type": "markdown",
   "id": "2120ff02-e3ba-4ea7-8a53-735ec7091de5",
   "metadata": {},
   "source": [
    "## Training"
   ]
  },
  {
   "cell_type": "markdown",
   "id": "70520748-1a9b-4661-bc89-11d151bcfa6c",
   "metadata": {},
   "source": [
    "### Training routine"
   ]
  },
  {
   "cell_type": "code",
   "execution_count": null,
   "id": "d54d47de-a690-4bcd-a296-b1d4b5420c3b",
   "metadata": {},
   "outputs": [],
   "source": [
    "from rdkit.Chem.PandasTools import LoadSDF\n",
    "import numpy as np\n",
    "from molvs import Standardizer, MolVSError\n",
    "from lib.descriptors.cdk import ECFPCalc, ECFPID\n",
    "import joblib"
   ]
  },
  {
   "cell_type": "code",
   "execution_count": null,
   "id": "2c1a2031-5381-448d-8beb-6366efc665dd",
   "metadata": {},
   "outputs": [],
   "source": [
    "standardizer = Standardizer()\n",
    "\n",
    "\n",
    "def standardize(mol):\n",
    "    try:\n",
    "        mol = standardizer.fragment_parent(mol)\n",
    "        mol = standardizer.charge_parent(mol)\n",
    "        mol = standardizer.stereo_parent(mol)\n",
    "        return mol\n",
    "    except MolVSError:\n",
    "        return None"
   ]
  },
  {
   "cell_type": "code",
   "execution_count": null,
   "id": "c7d7efdc-f0c2-43fe-b0fd-40cb883226e4",
   "metadata": {},
   "outputs": [],
   "source": [
    "ecfp_calc = ECFPCalc(ECFPID.ECFP4)\n",
    "\n",
    "def descriptor_calc(mol):\n",
    "    return ecfp_calc(mol)"
   ]
  },
  {
   "cell_type": "code",
   "execution_count": null,
   "id": "7d3e1b13-588f-4e6b-8ee1-3d34446a01ad",
   "metadata": {},
   "outputs": [],
   "source": [
    "def load_data(target):\n",
    "    data = LoadSDF(\n",
    "        f\"ba_assets/data_for_models/data_threshold_all_filled_0.5_all_masters/training_chembl+manual/{target}.sdf\"\n",
    "    )\n",
    "\n",
    "    # Dask dataframe should be the better choice, but it seems to have some problems\n",
    "    # with converting object types to string.\n",
    "    data = data.assign(ROMol=data.ROMol.map(standardize))\n",
    "    data = data.assign(Classification=data.Classification.astype(int))\n",
    "    data = data.dropna(subset=[\"ROMol\"])\n",
    "\n",
    "    data = data.assign(Descriptors=data.ROMol.map(descriptor_calc))\n",
    "\n",
    "    return np.stack(data.Descriptors), np.stack(data.Classification)"
   ]
  },
  {
   "cell_type": "code",
   "execution_count": null,
   "id": "04e08ed5-1c67-4692-8979-10c0f67af4cc",
   "metadata": {},
   "outputs": [],
   "source": [
    "def train_model(model, data):\n",
    "    # Destructure training data\n",
    "    X, y = data\n",
    "\n",
    "    # Train\n",
    "    with joblib.parallel_config(\"dask\", n_jobs=-1):\n",
    "        model.fit(X, y)\n",
    "\n",
    "    # Cross validate\n",
    "    cross = cross_validation(model, X, y)\n",
    "\n",
    "    return model, cross"
   ]
  },
  {
   "cell_type": "markdown",
   "id": "42dd07fd-9e00-481e-8c0c-df3237b9c266",
   "metadata": {},
   "source": [
    "### Configure task runner"
   ]
  },
  {
   "cell_type": "code",
   "execution_count": null,
   "id": "988d54d6-d1c5-432e-a2e0-2a773f90d1f5",
   "metadata": {},
   "outputs": [],
   "source": [
    "from dask_jobqueue import SLURMCluster\n",
    "from dask.distributed import Client\n",
    "import atexit\n",
    "import shutil"
   ]
  },
  {
   "cell_type": "code",
   "execution_count": null,
   "id": "c6861ae8-1991-491f-b284-831807f42125",
   "metadata": {},
   "outputs": [],
   "source": [
    "if \"cluster\" in globals():\n",
    "    cluster.close()\n",
    "shutil.rmtree(\"logs\", ignore_errors=True)\n",
    "\n",
    "cluster = SLURMCluster(\n",
    "    cores=1,\n",
    "    job_cpu=16,\n",
    "    memory=\"128 GB\",\n",
    "    scheduler_options={\"host\": \"0.0.0.0\", \"dashboard_address\": \":8787\"},\n",
    "    log_directory=\"logs\",\n",
    "    # worker_extra_args=[\"--resources\", \"singleton=1\"],\n",
    ")\n",
    "\n",
    "atexit.register(lambda: cluster.close())"
   ]
  },
  {
   "cell_type": "code",
   "execution_count": null,
   "id": "16a14628-8042-45b5-9376-fbf94fae1dff",
   "metadata": {},
   "outputs": [],
   "source": [
    "cluster.scale(len(models) * len(targets))"
   ]
  },
  {
   "cell_type": "code",
   "execution_count": null,
   "id": "38247d6e-a6f8-40bc-87c0-f27f757ce267",
   "metadata": {},
   "outputs": [],
   "source": [
    "client = Client(cluster)"
   ]
  },
  {
   "cell_type": "markdown",
   "id": "979da914-18f8-4641-9e02-7ba421202e3e",
   "metadata": {},
   "source": [
    "### Start jobs"
   ]
  },
  {
   "cell_type": "code",
   "execution_count": null,
   "id": "7f325925-50e5-4350-b538-1fb4e21d6352",
   "metadata": {},
   "outputs": [],
   "source": [
    "data = {name: client.submit(load_data, name) for name in targets}"
   ]
  },
  {
   "cell_type": "code",
   "execution_count": null,
   "id": "75436438-d94a-49cc-abfd-4d2754a73aaf",
   "metadata": {},
   "outputs": [],
   "source": [
    "jobs = {\n",
    "    f\"{target_name}-{parameter_search_name(model)}\": client.submit(\n",
    "        train_model,\n",
    "        model,\n",
    "        target_data,\n",
    "        # resources={\"singleton\": 1},\n",
    "    )\n",
    "    for model in models\n",
    "    for (target_name, target_data) in data.items()\n",
    "}"
   ]
  },
  {
   "cell_type": "markdown",
   "id": "438db3c4-1292-451a-80df-6700210c56c9",
   "metadata": {},
   "source": [
    "### Write out models"
   ]
  },
  {
   "cell_type": "code",
   "execution_count": null,
   "id": "b253ca3a-96b8-4b8d-896a-56289cd910aa",
   "metadata": {},
   "outputs": [],
   "source": [
    "from pathlib import Path\n",
    "import pandas as pd\n",
    "import joblib"
   ]
  },
  {
   "cell_type": "code",
   "execution_count": null,
   "id": "3d2f308a-1322-4f9f-9da3-fc677448923e",
   "metadata": {},
   "outputs": [],
   "source": [
    "model_dir = Path(\"models\")\n",
    "model_dir.mkdir(exist_ok=True)"
   ]
  },
  {
   "cell_type": "code",
   "execution_count": null,
   "id": "d469c1a3-d09f-498f-8d8a-648bffb24c27",
   "metadata": {},
   "outputs": [],
   "source": [
    "for name, (model, cv) in ((name, job.result()) for name, job in jobs.items() if job.done()):\n",
    "    joblib.dump(model, model_dir.joinpath(f\"{name}.pkl\"))\n",
    "    pd.DataFrame(cv).to_csv(model_dir.joinpath(f\"{name}.csv\"), index=False)"
   ]
  }
 ],
 "metadata": {
  "kernelspec": {
   "display_name": "Python 3 (ipykernel)",
   "language": "python",
   "name": "python3"
  },
  "language_info": {
   "codemirror_mode": {
    "name": "ipython",
    "version": 3
   },
   "file_extension": ".py",
   "mimetype": "text/x-python",
   "name": "python",
   "nbconvert_exporter": "python",
   "pygments_lexer": "ipython3",
   "version": "3.12.3"
  }
 },
 "nbformat": 4,
 "nbformat_minor": 5
}
