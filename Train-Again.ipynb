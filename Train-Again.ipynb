{
 "cells": [
  {
   "cell_type": "markdown",
   "id": "cdd2d221-6cd8-4d1e-b85c-915bbdbcbea3",
   "metadata": {},
   "source": [
    "## Setup"
   ]
  },
  {
   "cell_type": "markdown",
   "id": "1e568be2-e0dc-4f21-844a-90562ee55c07",
   "metadata": {},
   "source": [
    "### Setup Intel Extensions"
   ]
  },
  {
   "cell_type": "code",
   "execution_count": null,
   "id": "eefe4769-3c81-400e-953d-38f2bbec243a",
   "metadata": {},
   "outputs": [],
   "source": [
    "# from sklearnex import patch_sklearn"
   ]
  },
  {
   "cell_type": "code",
   "execution_count": null,
   "id": "bd44d063-ba5f-4e18-adc4-91ddaceb357b",
   "metadata": {},
   "outputs": [],
   "source": [
    "# patch_sklearn()"
   ]
  },
  {
   "cell_type": "markdown",
   "id": "fc115aaa-ef12-4a54-aa16-ceae88c0d72b",
   "metadata": {},
   "source": [
    "### Predictable randomness"
   ]
  },
  {
   "cell_type": "code",
   "execution_count": null,
   "id": "bb0b2a38-665f-4654-b511-447b2e2c91b1",
   "metadata": {},
   "outputs": [],
   "source": [
    "import numpy as np\n",
    "\n",
    "seed = 0\n",
    "\n",
    "\n",
    "def rng():\n",
    "    return np.random.RandomState(seed)"
   ]
  },
  {
   "cell_type": "markdown",
   "id": "0cdd8365-8970-4c94-8e48-974ad8a993e3",
   "metadata": {},
   "source": [
    "### Shared parameters"
   ]
  },
  {
   "cell_type": "code",
   "execution_count": null,
   "id": "69eebbe4-a45b-44f1-9464-f8aa95bfabaf",
   "metadata": {},
   "outputs": [],
   "source": [
    "param_scalers = [None]"
   ]
  },
  {
   "cell_type": "markdown",
   "id": "d0b910dd-00dd-48cf-bc7e-0799fe9a002e",
   "metadata": {},
   "source": [
    "### Preprocessing and parameter search"
   ]
  },
  {
   "cell_type": "code",
   "execution_count": null,
   "id": "d8e09c1c-696a-4c90-8475-2c5fb04969e7",
   "metadata": {},
   "outputs": [],
   "source": [
    "from sklearn.pipeline import Pipeline\n",
    "from sklearn.preprocessing import FunctionTransformer"
   ]
  },
  {
   "cell_type": "code",
   "execution_count": null,
   "id": "dea12a26-98a6-4565-8b03-372f3d44aa62",
   "metadata": {},
   "outputs": [],
   "source": [
    "from molvs import Standardizer\n",
    "from common.lib.descriptors.cdk import ECFPID, ECFPTransformer"
   ]
  },
  {
   "cell_type": "code",
   "execution_count": null,
   "id": "e251c23d-6f09-4ed7-844f-a97c2a424dd3",
   "metadata": {},
   "outputs": [],
   "source": [
    "from common.lib.sklearn import V"
   ]
  },
  {
   "cell_type": "code",
   "execution_count": null,
   "id": "bdaa528a-0cbc-4d57-a3a3-7e50848b25ba",
   "metadata": {},
   "outputs": [],
   "source": [
    "preprocessing_pipeline = Pipeline(\n",
    "    steps=[\n",
    "        (\"standardizer\", FunctionTransformer(V(Standardizer().fragment_parent))),\n",
    "        (\"descriptors\", ECFPTransformer(ECFPID.ECFP4)),\n",
    "    ]\n",
    ")"
   ]
  },
  {
   "cell_type": "code",
   "execution_count": null,
   "id": "0ded6c1e-8f98-43cf-9a8e-2c7704abf17a",
   "metadata": {},
   "outputs": [],
   "source": [
    "from sklearn.model_selection import KFold, RandomizedSearchCV"
   ]
  },
  {
   "cell_type": "code",
   "execution_count": null,
   "id": "48d0b9ef-8bd8-419a-b07c-a9de9f934d54",
   "metadata": {},
   "outputs": [],
   "source": [
    "def make_parameter_search(pipeline, cv_params):\n",
    "    return RandomizedSearchCV(\n",
    "        # Pipeline(steps=preprocessing_pipeline.steps + pipeline.steps, memory=\"logs/cache\"),\n",
    "        pipeline,\n",
    "        cv_params,\n",
    "        scoring=\"balanced_accuracy\",\n",
    "        refit=True,\n",
    "        cv=KFold(n_splits=10, shuffle=True, random_state=seed),\n",
    "        verbose=3,\n",
    "        error_score=\"raise\",\n",
    "        n_jobs=-1,\n",
    "    )\n",
    "\n",
    "\n",
    "def parameter_search_name(ps):\n",
    "    return ps.estimator.steps[-1][0]"
   ]
  },
  {
   "cell_type": "markdown",
   "id": "b86ccaef-1633-4630-94de-619cc83e99f1",
   "metadata": {},
   "source": [
    "### Cross validation"
   ]
  },
  {
   "cell_type": "code",
   "execution_count": null,
   "id": "0a608b08-28e0-44b4-9cae-9ce736bdb50b",
   "metadata": {},
   "outputs": [],
   "source": [
    "from sklearn.metrics import get_scorer, make_scorer, precision_score, recall_score\n",
    "from sklearn.model_selection import cross_validate"
   ]
  },
  {
   "cell_type": "code",
   "execution_count": null,
   "id": "76a7b569-125f-41f7-97c5-c29bf466f054",
   "metadata": {},
   "outputs": [],
   "source": [
    "def score(model, X, y, scoring={}):\n",
    "    return pd.DataFrame({key: [get_scorer(definition)(model, X, y)] for key, definition in scoring.items()})"
   ]
  },
  {
   "cell_type": "code",
   "execution_count": null,
   "id": "a851a464-d2bd-4a24-a99d-e2b1dd200a9b",
   "metadata": {},
   "outputs": [],
   "source": [
    "def external_validation(model, X, y):\n",
    "    return score(\n",
    "        model,\n",
    "        X,\n",
    "        y,\n",
    "        scoring={\n",
    "            \"accuracy\": \"accuracy\",\n",
    "            \"sensitivity\": \"recall\",\n",
    "            \"specificity\": make_scorer(recall_score, pos_label=0),\n",
    "            \"balanced_accuracy\": \"balanced_accuracy\",\n",
    "            \"f1\": \"f1\",\n",
    "            \"roc_auc\": \"roc_auc\",\n",
    "            \"precision\": make_scorer(precision_score, zero_division=0),\n",
    "            \"matthews_corrcoef\": \"matthews_corrcoef\",\n",
    "        },\n",
    "    )"
   ]
  },
  {
   "cell_type": "code",
   "execution_count": null,
   "id": "bcf39c3d-3887-41e1-b85f-0a245d0a54e8",
   "metadata": {},
   "outputs": [],
   "source": [
    "def cross_validation(model, X, y):\n",
    "    return cross_validate(\n",
    "        model,\n",
    "        X,\n",
    "        y,\n",
    "        scoring={\n",
    "            \"accuracy\": \"accuracy\",\n",
    "            \"sensitivity\": \"recall\",\n",
    "            \"specificity\": make_scorer(recall_score, pos_label=0),\n",
    "            \"balanced_accuracy\": \"balanced_accuracy\",\n",
    "            \"f1\": \"f1\",\n",
    "            \"roc_auc\": \"roc_auc\",\n",
    "            \"precision\": make_scorer(precision_score, zero_division=0),\n",
    "            \"matthews_corrcoef\": \"matthews_corrcoef\",\n",
    "        },\n",
    "        cv=KFold(n_splits=10, shuffle=True, random_state=seed),\n",
    "        n_jobs=-1,\n",
    "    )"
   ]
  },
  {
   "cell_type": "markdown",
   "id": "b952b883-4148-4064-a0fb-3d2f3278880c",
   "metadata": {},
   "source": [
    "## Define Models"
   ]
  },
  {
   "cell_type": "code",
   "execution_count": null,
   "id": "94b88e4a-d999-40cf-a222-11c16b4311db",
   "metadata": {},
   "outputs": [],
   "source": [
    "from sklearn.decomposition import PCA\n",
    "from sklearn.linear_model import LogisticRegression"
   ]
  },
  {
   "cell_type": "code",
   "execution_count": null,
   "id": "6c331747-9568-438b-aedd-e953ed1e336e",
   "metadata": {},
   "outputs": [],
   "source": [
    "clf_logr = make_parameter_search(\n",
    "    Pipeline(\n",
    "        steps=[\n",
    "            (\"scaler\", None),\n",
    "            (\"pca\", PCA(n_components=8, random_state=rng())),\n",
    "            (\n",
    "                \"logr\",\n",
    "                LogisticRegression(solver=\"saga\", max_iter=10000, random_state=rng()),\n",
    "            ),\n",
    "        ]\n",
    "    ),\n",
    "    {\n",
    "        \"scaler\": param_scalers,\n",
    "        \"logr__penalty\": [\"elasticnet\"],\n",
    "        \"logr__C\": [0.0001, 0.001, 0.01, 0.1, 1, 10, 100, 1000],\n",
    "        \"logr__l1_ratio\": [0, 0.25, 0.5, 0.75, 1],\n",
    "    },\n",
    ")"
   ]
  },
  {
   "cell_type": "code",
   "execution_count": null,
   "id": "f2efe333-6580-4e41-b148-6c9b1ab299ba",
   "metadata": {},
   "outputs": [],
   "source": [
    "from sklearn.ensemble import RandomForestClassifier"
   ]
  },
  {
   "cell_type": "code",
   "execution_count": null,
   "id": "e269d010-0193-4a32-aea9-68ed46cca8fe",
   "metadata": {},
   "outputs": [],
   "source": [
    "clf_rf = make_parameter_search(\n",
    "    Pipeline(\n",
    "        steps=[\n",
    "            (\"scaler\", None),\n",
    "            (\n",
    "                \"rf\",\n",
    "                RandomForestClassifier(max_features=1.0, random_state=rng(), n_jobs=-1),\n",
    "            ),\n",
    "        ]\n",
    "    ),\n",
    "    {\n",
    "        \"scaler\": param_scalers,\n",
    "        \"rf__class_weight\": [\"balanced\"],\n",
    "        \"rf__n_estimators\": [\n",
    "            5,\n",
    "            10,\n",
    "            25,\n",
    "            50,\n",
    "        ],  # , 100, 250\n",
    "        \"rf__max_depth\": [2, 4, 8, 16],  # , 32, 64\n",
    "    },\n",
    ")"
   ]
  },
  {
   "cell_type": "code",
   "execution_count": null,
   "id": "fc227abc-fe42-4f85-886b-1c558aa59a78",
   "metadata": {},
   "outputs": [],
   "source": [
    "from sklearn.neighbors import KNeighborsClassifier"
   ]
  },
  {
   "cell_type": "code",
   "execution_count": null,
   "id": "c5560d6a-b909-404a-b093-22e4f1443fc8",
   "metadata": {},
   "outputs": [],
   "source": [
    "clf_knn = make_parameter_search(\n",
    "    Pipeline(steps=[(\"scaler\", None), (\"knn\", KNeighborsClassifier())]),\n",
    "    {\n",
    "        \"scaler\": param_scalers,\n",
    "        \"knn__n_neighbors\": [3, 5, 9, 11, 13, 17, 19],\n",
    "        \"knn__weights\": [\"uniform\", \"distance\"],\n",
    "        \"knn__metric\": [\"euclidean\", \"manhattan\"],\n",
    "    },\n",
    ")"
   ]
  },
  {
   "cell_type": "code",
   "execution_count": null,
   "id": "e9529172-dabf-45b9-9b23-5f5151e1f8b5",
   "metadata": {},
   "outputs": [],
   "source": [
    "from sklearn.kernel_approximation import Nystroem\n",
    "from sklearn.svm import SVC"
   ]
  },
  {
   "cell_type": "code",
   "execution_count": null,
   "id": "94324b6d-83e5-4e8a-a6e7-7c7c0bda28b1",
   "metadata": {},
   "outputs": [],
   "source": [
    "clf_svc = make_parameter_search(\n",
    "    Pipeline(\n",
    "        steps=[\n",
    "            (\"scaler\", None),\n",
    "            (\"nystroem\", Nystroem()),\n",
    "            (\"svc\", SVC(class_weight=\"balanced\", random_state=rng(), probability=True)),\n",
    "        ]\n",
    "    ),\n",
    "    {\n",
    "        \"scaler\": param_scalers,\n",
    "        \"nystroem__gamma\": [0.0001, 0.001, 0.01, 0.1, 1.0, 10.0],\n",
    "        \"svc__C\": [0.1, 1.0, 10.0, 100.0, 1000.0],\n",
    "    },\n",
    ")"
   ]
  },
  {
   "cell_type": "code",
   "execution_count": null,
   "id": "2a15760e-f932-49fb-9080-2ce4e07eaaf3",
   "metadata": {},
   "outputs": [],
   "source": [
    "from xgboost import XGBClassifier"
   ]
  },
  {
   "cell_type": "code",
   "execution_count": null,
   "id": "9f267748-8e57-4a8b-9d60-64f11b9d7409",
   "metadata": {},
   "outputs": [],
   "source": [
    "clf_xgb = make_parameter_search(\n",
    "    Pipeline(\n",
    "        steps=[\n",
    "            (\"scaler\", None),\n",
    "            (\"xgb\", XGBClassifier(random_state=rng(), n_jobs=-1)),\n",
    "        ]\n",
    "    ),\n",
    "    {\n",
    "        \"scaler\": param_scalers,\n",
    "        \"xgb__scale_pos_weight\": [0.1, 0.5, 1, 5, 10],\n",
    "        \"xgb__objective\": [None, \"binary:logistic\"],\n",
    "        \"xgb__n_estimators\": [5, 10, 25, 50, 100, 250],\n",
    "        \"xgb__max_depth\": [2, 4, 8, 16, 32, 64],\n",
    "    },\n",
    ")"
   ]
  },
  {
   "cell_type": "code",
   "execution_count": null,
   "id": "4042778f-0004-422f-803a-025bda05b096",
   "metadata": {},
   "outputs": [],
   "source": [
    "models = [clf_logr, clf_rf, clf_knn, clf_svc, clf_xgb]\n",
    "targets = [\n",
    "    \"BCRP\",\n",
    "    \"BCRP-S\",\n",
    "    \"BSEP\",\n",
    "    \"MATE1\",\n",
    "    \"MDR1\",\n",
    "    \"MDR1-S\",\n",
    "    \"MRP2-S\",\n",
    "    \"MRP3\",\n",
    "    \"MRP3-S\",\n",
    "    \"OATP1B1\",\n",
    "    \"OATP1B3\",\n",
    "    \"OCT1\",\n",
    "    \"OCT2\",\n",
    "]"
   ]
  },
  {
   "cell_type": "markdown",
   "id": "2120ff02-e3ba-4ea7-8a53-735ec7091de5",
   "metadata": {},
   "source": [
    "## Training"
   ]
  },
  {
   "cell_type": "markdown",
   "id": "70520748-1a9b-4661-bc89-11d151bcfa6c",
   "metadata": {},
   "source": [
    "### Training routine"
   ]
  },
  {
   "cell_type": "code",
   "execution_count": null,
   "id": "d54d47de-a690-4bcd-a296-b1d4b5420c3b",
   "metadata": {},
   "outputs": [],
   "source": [
    "import pandas as pd\n",
    "import joblib\n",
    "from rdkit.Chem.PandasTools import LoadSDF"
   ]
  },
  {
   "cell_type": "code",
   "execution_count": null,
   "id": "7d3e1b13-588f-4e6b-8ee1-3d34446a01ad",
   "metadata": {},
   "outputs": [],
   "source": [
    "def load_data(target):\n",
    "    data = LoadSDF(\n",
    "        f\"ba_assets/data_for_models/data_threshold_all_filled_0.5_all_masters/training_chembl+manual/{target}.sdf\"\n",
    "    )\n",
    "\n",
    "    return np.stack(preprocessing_pipeline.transform(data.ROMol)), np.stack(\n",
    "        data.Classification.astype(int)\n",
    "    )"
   ]
  },
  {
   "cell_type": "code",
   "execution_count": null,
   "id": "efe15339-84fb-4848-bf19-8eb21dc81321",
   "metadata": {},
   "outputs": [],
   "source": [
    "def load_test(target):\n",
    "    chembl = LoadSDF(\n",
    "        f\"ba_assets/data_for_models/data_threshold_all_filled_0.5_all_masters/testing_chembl/{target}.sdf\"\n",
    "    )\n",
    "    manual = LoadSDF(\n",
    "        f\"ba_assets/data_for_models/data_threshold_all_filled_0.5_all_masters/testing_manual/{target}.sdf\"\n",
    "    )\n",
    "    data = pd.concat([chembl, manual])\n",
    "\n",
    "    return np.stack(preprocessing_pipeline.transform(data.ROMol)), np.stack(\n",
    "        data.Classification.astype(int)\n",
    "    )"
   ]
  },
  {
   "cell_type": "code",
   "execution_count": null,
   "id": "04e08ed5-1c67-4692-8979-10c0f67af4cc",
   "metadata": {},
   "outputs": [],
   "source": [
    "def train_model(model, training, test):\n",
    "    # Destructure data\n",
    "    X, y = training\n",
    "    X_test, y_test = test\n",
    "\n",
    "    # Train\n",
    "    with joblib.parallel_config(\"loky\", n_jobs=-1):\n",
    "        model.fit(X, y)\n",
    "\n",
    "    # Cross validate\n",
    "    cv = cross_validation(model, X, y)\n",
    "\n",
    "    # Validate on external data\n",
    "    external = external_validation(model, X_test, y_test)\n",
    "\n",
    "    return model, cv, external"
   ]
  },
  {
   "cell_type": "markdown",
   "id": "42dd07fd-9e00-481e-8c0c-df3237b9c266",
   "metadata": {},
   "source": [
    "### Configure task runner"
   ]
  },
  {
   "cell_type": "code",
   "execution_count": null,
   "id": "988d54d6-d1c5-432e-a2e0-2a773f90d1f5",
   "metadata": {},
   "outputs": [],
   "source": [
    "import atexit\n",
    "import shutil\n",
    "\n",
    "from dask.distributed import Client\n",
    "from dask_jobqueue import SLURMCluster"
   ]
  },
  {
   "cell_type": "code",
   "execution_count": null,
   "id": "c6861ae8-1991-491f-b284-831807f42125",
   "metadata": {
    "scrolled": true
   },
   "outputs": [],
   "source": [
    "if cluster := globals().get(\"cluster\"):\n",
    "    cluster.close()\n",
    "shutil.rmtree(\"logs\", ignore_errors=True)\n",
    "\n",
    "cluster = SLURMCluster(\n",
    "    cores=1,\n",
    "    job_cpu=32,\n",
    "    memory=\"8 GB\",\n",
    "    scheduler_options={\"interface\": \"ens9f0\", \"dashboard_address\": \":8787\"},\n",
    "    log_directory=\"logs\",\n",
    ")\n",
    "\n",
    "atexit.register(lambda: cluster.close())"
   ]
  },
  {
   "cell_type": "code",
   "execution_count": null,
   "id": "005ccf53-0bab-44fd-9116-dae08348ba0d",
   "metadata": {
    "scrolled": true
   },
   "outputs": [],
   "source": [
    "cluster.scale(len(models) * len(targets))"
   ]
  },
  {
   "cell_type": "code",
   "execution_count": null,
   "id": "38247d6e-a6f8-40bc-87c0-f27f757ce267",
   "metadata": {},
   "outputs": [],
   "source": [
    "client = Client(cluster)"
   ]
  },
  {
   "cell_type": "markdown",
   "id": "979da914-18f8-4641-9e02-7ba421202e3e",
   "metadata": {},
   "source": [
    "### Start jobs"
   ]
  },
  {
   "cell_type": "code",
   "execution_count": null,
   "id": "0ec76700-7aaf-419a-8e54-cf17fc867854",
   "metadata": {},
   "outputs": [],
   "source": [
    "data_training = {target: client.submit(load_data, target, priority=1) for target in targets}\n",
    "data_test = {target: client.submit(load_test, target, priority=1) for target in targets}"
   ]
  },
  {
   "cell_type": "code",
   "execution_count": null,
   "id": "75436438-d94a-49cc-abfd-4d2754a73aaf",
   "metadata": {},
   "outputs": [],
   "source": [
    "jobs = {\n",
    "    (model_name, target_name): client.submit(\n",
    "        train_model,\n",
    "        model,\n",
    "        data_training[target_name],\n",
    "        data_test[target_name],\n",
    "        key=f\"train_model_{model_name}-{target_name}\",\n",
    "    )\n",
    "    for model_name, model in ((parameter_search_name(model), model) for model in models)\n",
    "    for target_name in targets\n",
    "}"
   ]
  },
  {
   "cell_type": "code",
   "execution_count": null,
   "id": "4b29acd2-bccb-4ab0-bc57-41a138e92369",
   "metadata": {},
   "outputs": [],
   "source": [
    "# [job.result() for job in jobs.values() if job.done()]"
   ]
  },
  {
   "cell_type": "markdown",
   "id": "438db3c4-1292-451a-80df-6700210c56c9",
   "metadata": {},
   "source": [
    "### Write out models"
   ]
  },
  {
   "cell_type": "code",
   "execution_count": null,
   "id": "b253ca3a-96b8-4b8d-896a-56289cd910aa",
   "metadata": {},
   "outputs": [],
   "source": [
    "from pathlib import Path\n",
    "\n",
    "import pandas as pd"
   ]
  },
  {
   "cell_type": "code",
   "execution_count": null,
   "id": "3d2f308a-1322-4f9f-9da3-fc677448923e",
   "metadata": {},
   "outputs": [],
   "source": [
    "model_dir = Path(\"models\")"
   ]
  },
  {
   "cell_type": "code",
   "execution_count": null,
   "id": "081d9372-d0dc-4c01-8393-1ef96160aaa5",
   "metadata": {},
   "outputs": [],
   "source": [
    "def name_to_path(name):\n",
    "    target, *maybe_substrate, architecture = name.split(\"-\")\n",
    "\n",
    "    if maybe_substrate == [\"S\"]:\n",
    "        return Path(f\"Substrate/{target}/{architecture}_clf\")\n",
    "    else:\n",
    "        return Path(f\"Inhibition/{target}/{architecture}_clf\")"
   ]
  },
  {
   "cell_type": "code",
   "execution_count": null,
   "id": "6f976877-5cfd-46fd-a70a-c19f7171fa56",
   "metadata": {},
   "outputs": [],
   "source": [
    "results = [(name, job.result()) for name, job in jobs.items() if job.done()]\n"
   ]
  },
  {
   "cell_type": "code",
   "execution_count": null,
   "id": "d469c1a3-d09f-498f-8d8a-648bffb24c27",
   "metadata": {},
   "outputs": [],
   "source": [
    "results = [(name, job.result()) for name, job in jobs.items() if job.done()]\n",
    "\n",
    "for name, (model, cv, external) in results:\n",
    "    path = name_to_path(name)\n",
    "    model_dir.joinpath(path).parent.mkdir(exist_ok=True, parents=True)\n",
    "\n",
    "    joblib.dump(model, model_dir.joinpath(f\"{path}.pkl\"))\n",
    "    pd.DataFrame(cv).to_csv(model_dir.joinpath(f\"{path}.csv\"), index=False)\n",
    "    pd.DataFrame(external).to_csv(model_dir.joinpath(f\"{path}.external.csv\"), index=False)\n",
    "\n",
    "jobs_count, done_count = len(jobs), len([job for job in jobs.values() if job.done()])\n",
    "\n",
    "print(f\"Saved {len(results)}/{len(jobs)} models\")"
   ]
  },
  {
   "cell_type": "code",
   "execution_count": null,
   "id": "86be2bbe-5d22-4d09-96b2-21403234a11c",
   "metadata": {},
   "outputs": [],
   "source": [
    "[job.result() for name, job in jobs.items() if job.done() and name.endswith(\"float64\")]"
   ]
  }
 ],
 "metadata": {
  "kernelspec": {
   "display_name": "Python 3 (ipykernel)",
   "language": "python",
   "name": "python3"
  },
  "language_info": {
   "codemirror_mode": {
    "name": "ipython",
    "version": 3
   },
   "file_extension": ".py",
   "mimetype": "text/x-python",
   "name": "python",
   "nbconvert_exporter": "python",
   "pygments_lexer": "ipython3",
   "version": "3.12.3"
  }
 },
 "nbformat": 4,
 "nbformat_minor": 5
}
