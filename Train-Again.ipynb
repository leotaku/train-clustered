{
 "cells": [
  {
   "cell_type": "code",
   "execution_count": 1,
   "id": "e6e7c9a1-4e42-45ea-8f7d-b97129b646f8",
   "metadata": {},
   "outputs": [],
   "source": [
    "%load_ext lab_black"
   ]
  },
  {
   "cell_type": "markdown",
   "id": "cdd2d221-6cd8-4d1e-b85c-915bbdbcbea3",
   "metadata": {},
   "source": [
    "## Setup"
   ]
  },
  {
   "cell_type": "markdown",
   "id": "1e568be2-e0dc-4f21-844a-90562ee55c07",
   "metadata": {},
   "source": [
    "### Setup Intel Extensions"
   ]
  },
  {
   "cell_type": "code",
   "execution_count": 2,
   "id": "eefe4769-3c81-400e-953d-38f2bbec243a",
   "metadata": {},
   "outputs": [],
   "source": [
    "from sklearnex import patch_sklearn"
   ]
  },
  {
   "cell_type": "code",
   "execution_count": 3,
   "id": "bd44d063-ba5f-4e18-adc4-91ddaceb357b",
   "metadata": {},
   "outputs": [
    {
     "name": "stderr",
     "output_type": "stream",
     "text": [
      "Intel(R) Extension for Scikit-learn* enabled (https://github.com/intel/scikit-learn-intelex)\n"
     ]
    }
   ],
   "source": [
    "patch_sklearn()"
   ]
  },
  {
   "cell_type": "markdown",
   "id": "2977089b-1eb5-498b-88fe-6111a85f714a",
   "metadata": {},
   "source": [
    "### Configure on-machine parallelism\n",
    "\n",
    "Using dask for this seems to lead to decreased performance, as even small pieces of work are scattered across the full cluster.\n",
    "So we just use the recommended loky backend.\n",
    "I am unsure if the backend has to be set during model creation, or just while fitting."
   ]
  },
  {
   "cell_type": "code",
   "execution_count": 4,
   "id": "dd47e26e-a9df-40a3-b754-beb5e6d10811",
   "metadata": {},
   "outputs": [],
   "source": [
    "# import joblib"
   ]
  },
  {
   "cell_type": "code",
   "execution_count": 5,
   "id": "739eaaca-22d6-49bf-976a-c0b97f36801c",
   "metadata": {},
   "outputs": [],
   "source": [
    "# joblib.parallel_config(\"loky\", n_jobs=-1)"
   ]
  },
  {
   "cell_type": "markdown",
   "id": "fc115aaa-ef12-4a54-aa16-ceae88c0d72b",
   "metadata": {},
   "source": [
    "### Predictable randomness"
   ]
  },
  {
   "cell_type": "code",
   "execution_count": 6,
   "id": "bb0b2a38-665f-4654-b511-447b2e2c91b1",
   "metadata": {},
   "outputs": [],
   "source": [
    "import numpy as np\n",
    "\n",
    "seed = 0\n",
    "\n",
    "\n",
    "def rng():\n",
    "    return np.random.RandomState(seed)"
   ]
  },
  {
   "cell_type": "markdown",
   "id": "0cdd8365-8970-4c94-8e48-974ad8a993e3",
   "metadata": {},
   "source": [
    "### Shared parameters"
   ]
  },
  {
   "cell_type": "code",
   "execution_count": 7,
   "id": "69eebbe4-a45b-44f1-9464-f8aa95bfabaf",
   "metadata": {},
   "outputs": [],
   "source": [
    "param_scalers = [None]"
   ]
  },
  {
   "cell_type": "markdown",
   "id": "d0b910dd-00dd-48cf-bc7e-0799fe9a002e",
   "metadata": {},
   "source": [
    "### Preprocessing and parameter search"
   ]
  },
  {
   "cell_type": "code",
   "execution_count": 8,
   "id": "bd2ef493-35eb-488f-bc6b-9f375963a2e9",
   "metadata": {},
   "outputs": [],
   "source": [
    "def rdkit_ecfp(mol):\n",
    "    from rdkit.Chem.rdFingerprintGenerator import GetMorganGenerator\n",
    "    import numpy as np\n",
    "\n",
    "    gen = GetMorganGenerator(radius=2, fpSize=1024)\n",
    "    fp = gen.GetFingerprint(mol)\n",
    "    return np.int64(fp)"
   ]
  },
  {
   "cell_type": "code",
   "execution_count": 9,
   "id": "48d0b9ef-8bd8-419a-b07c-a9de9f934d54",
   "metadata": {},
   "outputs": [],
   "source": [
    "from sklearn.model_selection import KFold\n",
    "from sklearn.pipeline import Pipeline as PipelineBase\n",
    "from lib.failable import ElementFunctionTransformer, DropErrors\n",
    "\n",
    "# from dask_ml.model_selection import HyperbandSearchCV\n",
    "# from dask_ml.wrappers import Incremental\n",
    "\n",
    "from sklearn.model_selection import RandomizedSearchCV\n",
    "\n",
    "\n",
    "class Pipeline(PipelineBase):\n",
    "    def partial_fit(self, X, y=None):\n",
    "        args = [X, y]\n",
    "        for name, est in self.steps:\n",
    "            if est is None:\n",
    "                continue\n",
    "            est.partial_fit(*args)\n",
    "            X_transformed = est.transform(args[0])\n",
    "            args = [X_transformed, y]\n",
    "        return self\n",
    "\n",
    "\n",
    "def make_parameter_search(model, cv_params):\n",
    "    # if all([])\n",
    "    return RandomizedSearchCV(\n",
    "        model,\n",
    "        cv_params,\n",
    "        scoring=\"balanced_accuracy\",\n",
    "        refit=True,\n",
    "        cv=KFold(n_splits=10, shuffle=True, random_state=seed),\n",
    "        verbose=3,\n",
    "        error_score=\"raise\",\n",
    "        n_jobs=-1,\n",
    "    )\n",
    "    # return HyperbandSearchCV(\n",
    "    #     Incremental(model, random_state=rng()),\n",
    "    #     {f\"estimator__{key}\": value for key, value in cv_params.items()},\n",
    "    #     scoring=\"balanced_accuracy\",\n",
    "    #     random_state=seed,\n",
    "    # )"
   ]
  },
  {
   "cell_type": "markdown",
   "id": "b86ccaef-1633-4630-94de-619cc83e99f1",
   "metadata": {},
   "source": [
    "### Cross validation"
   ]
  },
  {
   "cell_type": "code",
   "execution_count": 10,
   "id": "bcf39c3d-3887-41e1-b85f-0a245d0a54e8",
   "metadata": {},
   "outputs": [],
   "source": [
    "from sklearn.model_selection import cross_validate\n",
    "from sklearn.metrics import make_scorer, recall_score, precision_score\n",
    "\n",
    "\n",
    "def cross_validation(model, X, y):\n",
    "    return cross_validate(\n",
    "        model,\n",
    "        X,\n",
    "        y,\n",
    "        scoring={\n",
    "            \"accuracy\": \"accuracy\",\n",
    "            \"sensitivity\": \"recall\",\n",
    "            \"specificity\": make_scorer(recall_score, pos_label=0),\n",
    "            \"balanced_accuracy\": \"balanced_accuracy\",\n",
    "            \"f1\": \"f1\",\n",
    "            \"roc_auc\": \"roc_auc\",\n",
    "            \"precision\": make_scorer(precision_score, zero_division=0),\n",
    "            \"matthews_corrcoef\": \"matthews_corrcoef\",\n",
    "        },\n",
    "        cv=KFold(n_splits=10, shuffle=True, random_state=seed),\n",
    "        n_jobs=-1,\n",
    "    )"
   ]
  },
  {
   "cell_type": "markdown",
   "id": "b952b883-4148-4064-a0fb-3d2f3278880c",
   "metadata": {},
   "source": [
    "## Define Models"
   ]
  },
  {
   "cell_type": "code",
   "execution_count": 11,
   "id": "0ded6c1e-8f98-43cf-9a8e-2c7704abf17a",
   "metadata": {},
   "outputs": [],
   "source": [
    "# from sklearn.pipeline import Pipeline"
   ]
  },
  {
   "cell_type": "code",
   "execution_count": 12,
   "id": "94b88e4a-d999-40cf-a222-11c16b4311db",
   "metadata": {},
   "outputs": [],
   "source": [
    "from sklearn.decomposition import PCA\n",
    "from sklearn.linear_model import LogisticRegression\n",
    "from sklearn.preprocessing import FunctionTransformer"
   ]
  },
  {
   "cell_type": "code",
   "execution_count": 13,
   "id": "6c331747-9568-438b-aedd-e953ed1e336e",
   "metadata": {},
   "outputs": [
    {
     "ename": "NameError",
     "evalue": "name 'RandomizedSearchCV' is not defined",
     "output_type": "error",
     "traceback": [
      "\u001b[0;31m---------------------------------------------------------------------------\u001b[0m",
      "\u001b[0;31mNameError\u001b[0m                                 Traceback (most recent call last)",
      "Cell \u001b[0;32mIn[13], line 1\u001b[0m\n\u001b[0;32m----> 1\u001b[0m clf_logr \u001b[38;5;241m=\u001b[39m \u001b[43mmake_parameter_search\u001b[49m\u001b[43m(\u001b[49m\n\u001b[1;32m      2\u001b[0m \u001b[43m    \u001b[49m\u001b[43mPipeline\u001b[49m\u001b[43m(\u001b[49m\n\u001b[1;32m      3\u001b[0m \u001b[43m        \u001b[49m\u001b[43msteps\u001b[49m\u001b[38;5;241;43m=\u001b[39;49m\u001b[43m[\u001b[49m\n\u001b[1;32m      4\u001b[0m \u001b[43m            \u001b[49m\u001b[43m(\u001b[49m\u001b[38;5;124;43m\"\u001b[39;49m\u001b[38;5;124;43mscaler\u001b[39;49m\u001b[38;5;124;43m\"\u001b[39;49m\u001b[43m,\u001b[49m\u001b[43m \u001b[49m\u001b[38;5;28;43;01mNone\u001b[39;49;00m\u001b[43m)\u001b[49m\u001b[43m,\u001b[49m\n\u001b[1;32m      5\u001b[0m \u001b[43m            \u001b[49m\u001b[43m(\u001b[49m\u001b[38;5;124;43m\"\u001b[39;49m\u001b[38;5;124;43mpca\u001b[39;49m\u001b[38;5;124;43m\"\u001b[39;49m\u001b[43m,\u001b[49m\u001b[43m \u001b[49m\u001b[43mPCA\u001b[49m\u001b[43m(\u001b[49m\u001b[43mn_components\u001b[49m\u001b[38;5;241;43m=\u001b[39;49m\u001b[38;5;241;43m8\u001b[39;49m\u001b[43m,\u001b[49m\u001b[43m \u001b[49m\u001b[43mrandom_state\u001b[49m\u001b[38;5;241;43m=\u001b[39;49m\u001b[43mrng\u001b[49m\u001b[43m(\u001b[49m\u001b[43m)\u001b[49m\u001b[43m)\u001b[49m\u001b[43m)\u001b[49m\u001b[43m,\u001b[49m\n\u001b[1;32m      6\u001b[0m \u001b[43m            \u001b[49m\u001b[43m(\u001b[49m\n\u001b[1;32m      7\u001b[0m \u001b[43m                \u001b[49m\u001b[38;5;124;43m\"\u001b[39;49m\u001b[38;5;124;43mlogr\u001b[39;49m\u001b[38;5;124;43m\"\u001b[39;49m\u001b[43m,\u001b[49m\n\u001b[1;32m      8\u001b[0m \u001b[43m                \u001b[49m\u001b[43mLogisticRegression\u001b[49m\u001b[43m(\u001b[49m\u001b[43msolver\u001b[49m\u001b[38;5;241;43m=\u001b[39;49m\u001b[38;5;124;43m\"\u001b[39;49m\u001b[38;5;124;43msaga\u001b[39;49m\u001b[38;5;124;43m\"\u001b[39;49m\u001b[43m,\u001b[49m\u001b[43m \u001b[49m\u001b[43mmax_iter\u001b[49m\u001b[38;5;241;43m=\u001b[39;49m\u001b[38;5;241;43m10000\u001b[39;49m\u001b[43m,\u001b[49m\u001b[43m \u001b[49m\u001b[43mrandom_state\u001b[49m\u001b[38;5;241;43m=\u001b[39;49m\u001b[43mrng\u001b[49m\u001b[43m(\u001b[49m\u001b[43m)\u001b[49m\u001b[43m)\u001b[49m\u001b[43m,\u001b[49m\n\u001b[1;32m      9\u001b[0m \u001b[43m            \u001b[49m\u001b[43m)\u001b[49m\u001b[43m,\u001b[49m\n\u001b[1;32m     10\u001b[0m \u001b[43m        \u001b[49m\u001b[43m]\u001b[49m\n\u001b[1;32m     11\u001b[0m \u001b[43m    \u001b[49m\u001b[43m)\u001b[49m\u001b[43m,\u001b[49m\n\u001b[1;32m     12\u001b[0m \u001b[43m    \u001b[49m\u001b[43m{\u001b[49m\n\u001b[1;32m     13\u001b[0m \u001b[43m        \u001b[49m\u001b[38;5;124;43m\"\u001b[39;49m\u001b[38;5;124;43mscaler\u001b[39;49m\u001b[38;5;124;43m\"\u001b[39;49m\u001b[43m:\u001b[49m\u001b[43m \u001b[49m\u001b[43mparam_scalers\u001b[49m\u001b[43m,\u001b[49m\n\u001b[1;32m     14\u001b[0m \u001b[43m        \u001b[49m\u001b[38;5;124;43m\"\u001b[39;49m\u001b[38;5;124;43mlogr__penalty\u001b[39;49m\u001b[38;5;124;43m\"\u001b[39;49m\u001b[43m:\u001b[49m\u001b[43m \u001b[49m\u001b[43m[\u001b[49m\u001b[38;5;124;43m\"\u001b[39;49m\u001b[38;5;124;43melasticnet\u001b[39;49m\u001b[38;5;124;43m\"\u001b[39;49m\u001b[43m]\u001b[49m\u001b[43m,\u001b[49m\n\u001b[1;32m     15\u001b[0m \u001b[43m        \u001b[49m\u001b[38;5;124;43m\"\u001b[39;49m\u001b[38;5;124;43mlogr__C\u001b[39;49m\u001b[38;5;124;43m\"\u001b[39;49m\u001b[43m:\u001b[49m\u001b[43m \u001b[49m\u001b[43m[\u001b[49m\u001b[38;5;241;43m0.0001\u001b[39;49m\u001b[43m,\u001b[49m\u001b[43m \u001b[49m\u001b[38;5;241;43m0.001\u001b[39;49m\u001b[43m,\u001b[49m\u001b[43m \u001b[49m\u001b[38;5;241;43m0.01\u001b[39;49m\u001b[43m,\u001b[49m\u001b[43m \u001b[49m\u001b[38;5;241;43m0.1\u001b[39;49m\u001b[43m,\u001b[49m\u001b[43m \u001b[49m\u001b[38;5;241;43m1\u001b[39;49m\u001b[43m,\u001b[49m\u001b[43m \u001b[49m\u001b[38;5;241;43m10\u001b[39;49m\u001b[43m,\u001b[49m\u001b[43m \u001b[49m\u001b[38;5;241;43m100\u001b[39;49m\u001b[43m,\u001b[49m\u001b[43m \u001b[49m\u001b[38;5;241;43m1000\u001b[39;49m\u001b[43m]\u001b[49m\u001b[43m,\u001b[49m\n\u001b[1;32m     16\u001b[0m \u001b[43m        \u001b[49m\u001b[38;5;124;43m\"\u001b[39;49m\u001b[38;5;124;43mlogr__l1_ratio\u001b[39;49m\u001b[38;5;124;43m\"\u001b[39;49m\u001b[43m:\u001b[49m\u001b[43m \u001b[49m\u001b[43m[\u001b[49m\u001b[38;5;241;43m0\u001b[39;49m\u001b[43m,\u001b[49m\u001b[43m \u001b[49m\u001b[38;5;241;43m0.25\u001b[39;49m\u001b[43m,\u001b[49m\u001b[43m \u001b[49m\u001b[38;5;241;43m0.5\u001b[39;49m\u001b[43m,\u001b[49m\u001b[43m \u001b[49m\u001b[38;5;241;43m0.75\u001b[39;49m\u001b[43m,\u001b[49m\u001b[43m \u001b[49m\u001b[38;5;241;43m1\u001b[39;49m\u001b[43m]\u001b[49m\u001b[43m,\u001b[49m\n\u001b[1;32m     17\u001b[0m \u001b[43m    \u001b[49m\u001b[43m}\u001b[49m\u001b[43m,\u001b[49m\n\u001b[1;32m     18\u001b[0m \u001b[43m)\u001b[49m\n",
      "Cell \u001b[0;32mIn[9], line 25\u001b[0m, in \u001b[0;36mmake_parameter_search\u001b[0;34m(model, cv_params)\u001b[0m\n\u001b[1;32m     23\u001b[0m \u001b[38;5;28;01mdef\u001b[39;00m \u001b[38;5;21mmake_parameter_search\u001b[39m(model, cv_params):\n\u001b[1;32m     24\u001b[0m     \u001b[38;5;66;03m# if all([])\u001b[39;00m\n\u001b[0;32m---> 25\u001b[0m     \u001b[38;5;28;01mreturn\u001b[39;00m \u001b[43mRandomizedSearchCV\u001b[49m(\n\u001b[1;32m     26\u001b[0m         model,\n\u001b[1;32m     27\u001b[0m         cv_params,\n\u001b[1;32m     28\u001b[0m         scoring\u001b[38;5;241m=\u001b[39m\u001b[38;5;124m\"\u001b[39m\u001b[38;5;124mbalanced_accuracy\u001b[39m\u001b[38;5;124m\"\u001b[39m,\n\u001b[1;32m     29\u001b[0m         refit\u001b[38;5;241m=\u001b[39m\u001b[38;5;28;01mTrue\u001b[39;00m,\n\u001b[1;32m     30\u001b[0m         cv\u001b[38;5;241m=\u001b[39mKFold(n_splits\u001b[38;5;241m=\u001b[39m\u001b[38;5;241m10\u001b[39m, shuffle\u001b[38;5;241m=\u001b[39m\u001b[38;5;28;01mTrue\u001b[39;00m, random_state\u001b[38;5;241m=\u001b[39mseed),\n\u001b[1;32m     31\u001b[0m         verbose\u001b[38;5;241m=\u001b[39m\u001b[38;5;241m3\u001b[39m,\n\u001b[1;32m     32\u001b[0m         error_score\u001b[38;5;241m=\u001b[39m\u001b[38;5;124m\"\u001b[39m\u001b[38;5;124mraise\u001b[39m\u001b[38;5;124m\"\u001b[39m,\n\u001b[1;32m     33\u001b[0m         n_jobs\u001b[38;5;241m=\u001b[39m\u001b[38;5;241m-\u001b[39m\u001b[38;5;241m1\u001b[39m,\n\u001b[1;32m     34\u001b[0m     )\n",
      "\u001b[0;31mNameError\u001b[0m: name 'RandomizedSearchCV' is not defined"
     ]
    }
   ],
   "source": [
    "clf_logr = make_parameter_search(\n",
    "    Pipeline(\n",
    "        steps=[\n",
    "            (\"scaler\", None),\n",
    "            (\"pca\", PCA(n_components=8, random_state=rng())),\n",
    "            (\n",
    "                \"logr\",\n",
    "                LogisticRegression(solver=\"saga\", max_iter=10000, random_state=rng()),\n",
    "            ),\n",
    "        ]\n",
    "    ),\n",
    "    {\n",
    "        \"scaler\": param_scalers,\n",
    "        \"logr__penalty\": [\"elasticnet\"],\n",
    "        \"logr__C\": [0.0001, 0.001, 0.01, 0.1, 1, 10, 100, 1000],\n",
    "        \"logr__l1_ratio\": [0, 0.25, 0.5, 0.75, 1],\n",
    "    },\n",
    ")"
   ]
  },
  {
   "cell_type": "code",
   "execution_count": null,
   "id": "f2efe333-6580-4e41-b148-6c9b1ab299ba",
   "metadata": {},
   "outputs": [],
   "source": [
    "from sklearn.ensemble import RandomForestClassifier"
   ]
  },
  {
   "cell_type": "code",
   "execution_count": null,
   "id": "e269d010-0193-4a32-aea9-68ed46cca8fe",
   "metadata": {},
   "outputs": [],
   "source": [
    "clf_rf = make_parameter_search(\n",
    "    Pipeline(\n",
    "        steps=[\n",
    "            (\"scaler\", None),\n",
    "            (\n",
    "                \"rf\",\n",
    "                RandomForestClassifier(max_features=1.0, random_state=rng(), n_jobs=-1),\n",
    "            ),\n",
    "        ]\n",
    "    ),\n",
    "    {\n",
    "        \"scaler\": param_scalers,\n",
    "        \"rf__class_weight\": [\"balanced\"],\n",
    "        \"rf__n_estimators\": [\n",
    "            5,\n",
    "            10,\n",
    "            25,\n",
    "            50,\n",
    "        ],  # , 100, 250\n",
    "        \"rf__max_depth\": [2, 4, 8, 16],  # , 32, 64\n",
    "    },\n",
    ")"
   ]
  },
  {
   "cell_type": "code",
   "execution_count": null,
   "id": "fc227abc-fe42-4f85-886b-1c558aa59a78",
   "metadata": {},
   "outputs": [],
   "source": [
    "from sklearn.neighbors import KNeighborsClassifier"
   ]
  },
  {
   "cell_type": "code",
   "execution_count": null,
   "id": "c5560d6a-b909-404a-b093-22e4f1443fc8",
   "metadata": {},
   "outputs": [],
   "source": [
    "clf_knn = make_parameter_search(\n",
    "    Pipeline(steps=[(\"scaler\", None), (\"knn\", KNeighborsClassifier())]),\n",
    "    {\n",
    "        \"scaler\": param_scalers,\n",
    "        \"knn__n_neighbors\": [3, 5, 9, 11, 13, 17, 19],\n",
    "        \"knn__weights\": [\"uniform\", \"distance\"],\n",
    "        \"knn__metric\": [\"euclidean\", \"manhattan\"],\n",
    "    },\n",
    ")"
   ]
  },
  {
   "cell_type": "code",
   "execution_count": null,
   "id": "e9529172-dabf-45b9-9b23-5f5151e1f8b5",
   "metadata": {},
   "outputs": [],
   "source": [
    "from sklearn.svm import SVC"
   ]
  },
  {
   "cell_type": "code",
   "execution_count": null,
   "id": "94324b6d-83e5-4e8a-a6e7-7c7c0bda28b1",
   "metadata": {},
   "outputs": [],
   "source": [
    "clf_svc = make_parameter_search(\n",
    "    Pipeline(\n",
    "        steps=[\n",
    "            (\"scaler\", None),\n",
    "            (\"svc\", SVC(class_weight=\"balanced\", probability=True, random_state=rng())),\n",
    "        ]\n",
    "    ),\n",
    "    {\n",
    "        \"scaler\": param_scalers,\n",
    "        \"svc__kernel\": [\"rbf\"],\n",
    "        \"svc__C\": [0.1, 1.0, 10.0, 100.0, 1000.0],\n",
    "        \"svc__gamma\": [0.0001, 0.001, 0.01, 0.1, 1.0, 10.0],\n",
    "    },\n",
    ")"
   ]
  },
  {
   "cell_type": "code",
   "execution_count": null,
   "id": "2a15760e-f932-49fb-9080-2ce4e07eaaf3",
   "metadata": {},
   "outputs": [],
   "source": [
    "from xgboost import XGBClassifier"
   ]
  },
  {
   "cell_type": "code",
   "execution_count": null,
   "id": "9f267748-8e57-4a8b-9d60-64f11b9d7409",
   "metadata": {},
   "outputs": [],
   "source": [
    "clf_xgb = make_parameter_search(\n",
    "    Pipeline(\n",
    "        steps=[\n",
    "            (\"scaler\", None),\n",
    "            (\"xgb\", XGBClassifier(random_state=rng(), n_jobs=-1)),\n",
    "        ]\n",
    "    ),\n",
    "    {\n",
    "        \"scaler\": param_scalers,\n",
    "        \"xgb__scale_pos_weight\": [0.1, 0.5, 1, 5, 10],\n",
    "        \"xgb__objective\": [None, \"binary:logistic\"],\n",
    "        \"xgb__n_estimators\": [5, 10, 25, 50, 100, 250],\n",
    "        \"xgb__max_depth\": [2, 4, 8, 16, 32, 64],\n",
    "    },\n",
    ")"
   ]
  },
  {
   "cell_type": "code",
   "execution_count": null,
   "id": "4042778f-0004-422f-803a-025bda05b096",
   "metadata": {},
   "outputs": [],
   "source": [
    "models = [clf_logr, clf_rf, clf_knn, clf_svc, clf_xgb]\n",
    "targets = [\n",
    "    \"BCRP\",\n",
    "    \"BCRP-S\",\n",
    "    \"BSEP\",\n",
    "    \"MATE1\",\n",
    "    \"MDR1\",\n",
    "    \"MDR1-S\",\n",
    "    \"MRP2-S\",\n",
    "    \"MRP3\",\n",
    "    \"MRP3-S\",\n",
    "    \"OATP1B1\",\n",
    "    \"OATP1B3\",\n",
    "    \"OCT1\",\n",
    "    \"OCT2\",\n",
    "]"
   ]
  },
  {
   "cell_type": "markdown",
   "id": "2120ff02-e3ba-4ea7-8a53-735ec7091de5",
   "metadata": {},
   "source": [
    "## Training"
   ]
  },
  {
   "cell_type": "markdown",
   "id": "70520748-1a9b-4661-bc89-11d151bcfa6c",
   "metadata": {},
   "source": [
    "### Training routine"
   ]
  },
  {
   "cell_type": "code",
   "execution_count": null,
   "id": "d54d47de-a690-4bcd-a296-b1d4b5420c3b",
   "metadata": {},
   "outputs": [],
   "source": [
    "from rdkit.Chem.PandasTools import LoadSDF\n",
    "from dask.distributed import worker_client\n",
    "import numpy as np\n",
    "from molvs import Standardizer, MolVSError"
   ]
  },
  {
   "cell_type": "code",
   "execution_count": null,
   "id": "7d3e1b13-588f-4e6b-8ee1-3d34446a01ad",
   "metadata": {},
   "outputs": [],
   "source": [
    "standardizer = Standardizer()\n",
    "\n",
    "\n",
    "def load_data(target):\n",
    "    data = LoadSDF(\n",
    "        f\"ba_assets/data_for_models/data_threshold_all_filled_0.5_all_masters/training_chembl+manual/{target}.sdf\"\n",
    "    )\n",
    "\n",
    "    data[\"Descriptors\"] = Pipeline(\n",
    "        [\n",
    "            (\n",
    "                \"standardize\",\n",
    "                ElementFunctionTransformer(\n",
    "                    standardizer.standardize, catch_exception=MolVSError\n",
    "                ),\n",
    "            ),\n",
    "            (\"drop_errors\", DropErrors()),\n",
    "            (\n",
    "                \"extract_features\",\n",
    "                ElementFunctionTransformer(rdkit_ecfp),\n",
    "            ),\n",
    "        ]\n",
    "    ).transform(data.ROMol)\n",
    "\n",
    "    return data"
   ]
  },
  {
   "cell_type": "code",
   "execution_count": null,
   "id": "04e08ed5-1c67-4692-8979-10c0f67af4cc",
   "metadata": {},
   "outputs": [],
   "source": [
    "def train_model(model, target):\n",
    "    data = load_data(target)\n",
    "    descs = np.stack(data.Descriptors)\n",
    "    #\n",
    "    with Client(cluster) as client:\n",
    "        with joblib.parallel_backend(\"loky\", njobs=-1):\n",
    "            # Train\n",
    "            model.fit(descs, data.Classification.astype(int))\n",
    "    #\n",
    "    ## Cross validate\n",
    "    # cross = cross_validation(model, descs, data.Classification.astype(int))\n",
    "\n",
    "    model = None\n",
    "    cross = None\n",
    "\n",
    "    return model, cross"
   ]
  },
  {
   "cell_type": "markdown",
   "id": "42dd07fd-9e00-481e-8c0c-df3237b9c266",
   "metadata": {},
   "source": [
    "### Configure task runner"
   ]
  },
  {
   "cell_type": "code",
   "execution_count": null,
   "id": "988d54d6-d1c5-432e-a2e0-2a773f90d1f5",
   "metadata": {},
   "outputs": [],
   "source": [
    "from dask_jobqueue import SLURMCluster\n",
    "from dask.distributed import Client\n",
    "import atexit\n",
    "import shutil"
   ]
  },
  {
   "cell_type": "code",
   "execution_count": null,
   "id": "c6861ae8-1991-491f-b284-831807f42125",
   "metadata": {},
   "outputs": [],
   "source": [
    "if \"cluster\" in globals():\n",
    "    cluster.close()\n",
    "shutil.rmtree(\"logs\")\n",
    "\n",
    "cluster = SLURMCluster(\n",
    "    cores=1,\n",
    "    job_cpu=16,\n",
    "    memory=\"128 GB\",\n",
    "    scheduler_options={\"dashboard_address\": \":8787\"},\n",
    "    log_directory=\"logs\",\n",
    "    # worker_extra_args=[\"--resources\", \"singleton=1\"],\n",
    ")\n",
    "\n",
    "atexit.register(lambda: cluster.close())"
   ]
  },
  {
   "cell_type": "code",
   "execution_count": null,
   "id": "16a14628-8042-45b5-9376-fbf94fae1dff",
   "metadata": {},
   "outputs": [],
   "source": [
    "cluster.scale(len(models) * len(targets))"
   ]
  },
  {
   "cell_type": "code",
   "execution_count": null,
   "id": "38247d6e-a6f8-40bc-87c0-f27f757ce267",
   "metadata": {},
   "outputs": [],
   "source": [
    "client = Client(cluster)"
   ]
  },
  {
   "cell_type": "markdown",
   "id": "979da914-18f8-4641-9e02-7ba421202e3e",
   "metadata": {},
   "source": [
    "### Start jobs"
   ]
  },
  {
   "cell_type": "code",
   "execution_count": null,
   "id": "90ca7621-0967-4458-971c-2dcf5dfdfaed",
   "metadata": {},
   "outputs": [],
   "source": [
    "data = load_data(\"BCRP\")"
   ]
  },
  {
   "cell_type": "code",
   "execution_count": null,
   "id": "bd27df6c-9d92-4714-9f46-5331be3ca554",
   "metadata": {},
   "outputs": [],
   "source": [
    "np.stack(data.Classification)"
   ]
  },
  {
   "cell_type": "code",
   "execution_count": null,
   "id": "15b2810c-2810-446c-8c54-2142f5499d58",
   "metadata": {},
   "outputs": [],
   "source": [
    "models[1].fit(np.stack(data.Descriptors), np.stack(data.Classification.astype(int)))"
   ]
  },
  {
   "cell_type": "code",
   "execution_count": null,
   "id": "75436438-d94a-49cc-abfd-4d2754a73aaf",
   "metadata": {},
   "outputs": [],
   "source": [
    "jobs = [\n",
    "    client.submit(\n",
    "        train_model,\n",
    "        model,\n",
    "        target,\n",
    "        key=f\"train-{model.estimator.steps[-1][0]}-{target}-1\",\n",
    "        # resources={\"singleton\": 1},\n",
    "    )\n",
    "    for model in models\n",
    "    for target in targets\n",
    "]"
   ]
  },
  {
   "cell_type": "code",
   "execution_count": null,
   "id": "dc8cb364-b5b0-4748-a8a4-638d7b272963",
   "metadata": {},
   "outputs": [],
   "source": []
  },
  {
   "cell_type": "code",
   "execution_count": null,
   "id": "d13f6eef-7cf4-48db-be91-1f71167227b2",
   "metadata": {},
   "outputs": [],
   "source": [
    "jobs[0].result()"
   ]
  },
  {
   "cell_type": "code",
   "execution_count": null,
   "id": "20249e26-3674-4d8b-af0c-1eb0b442535e",
   "metadata": {},
   "outputs": [],
   "source": [
    "results = [job.result() for job in jobs]"
   ]
  },
  {
   "cell_type": "code",
   "execution_count": null,
   "id": "f7218726-c175-4eee-9586-4464cda6bf21",
   "metadata": {},
   "outputs": [],
   "source": [
    "results"
   ]
  }
 ],
 "metadata": {
  "kernelspec": {
   "display_name": "Python 3 (ipykernel)",
   "language": "python",
   "name": "python3"
  },
  "language_info": {
   "codemirror_mode": {
    "name": "ipython",
    "version": 3
   },
   "file_extension": ".py",
   "mimetype": "text/x-python",
   "name": "python",
   "nbconvert_exporter": "python",
   "pygments_lexer": "ipython3",
   "version": "3.12.3"
  }
 },
 "nbformat": 4,
 "nbformat_minor": 5
}
